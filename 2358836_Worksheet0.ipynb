{
  "nbformat": 4,
  "nbformat_minor": 0,
  "metadata": {
    "colab": {
      "provenance": []
    },
    "kernelspec": {
      "name": "python3",
      "display_name": "Python 3"
    },
    "language_info": {
      "name": "python"
    }
  },
  "cells": [
    {
      "cell_type": "markdown",
      "source": [
        "4.1 Exercise on Functions:"
      ],
      "metadata": {
        "id": "e0gE_QfWErzR"
      }
    },
    {
      "cell_type": "markdown",
      "source": [
        "TASK 1"
      ],
      "metadata": {
        "id": "7xEWex4dHps0"
      }
    },
    {
      "cell_type": "markdown",
      "source": [
        "Create a Python program that converts between different units of measurement."
      ],
      "metadata": {
        "id": "nnrqc667H9RK"
      }
    },
    {
      "cell_type": "code",
      "source": [
        "def convert_length(value, unit):\n",
        "    \"\"\"\n",
        "    Change length between meters and feet.\n",
        "    \"\"\"\n",
        "    if unit == 'm':\n",
        "        return value * 3.28084  # Change meters to feet\n",
        "    elif unit == 'ft':\n",
        "        return value / 3.28084  # Change feet to meters\n",
        "    else:\n",
        "        raise ValueError(\"Wrong unit for length.\")\n",
        "\n",
        "def convert_weight(value, unit):\n",
        "    \"\"\"\n",
        "    Change weight between kg and lbs.\n",
        "    \"\"\"\n",
        "    if unit == 'kg':\n",
        "        return value * 2.20462  # Change kg to lbs\n",
        "    elif unit == 'lbs':\n",
        "        return value / 2.20462  # Change lbs to kg\n",
        "    else:\n",
        "        raise ValueError(\"Wrong unit for weight.\")\n",
        "\n",
        "def convert_volume(value, unit):\n",
        "    \"\"\"\n",
        "    Change volume between liters and gallons.\n",
        "    \"\"\"\n",
        "    if unit == 'L':\n",
        "        return value * 0.264172  # Change liters to gallons\n",
        "    elif unit == 'gal':\n",
        "        return value / 0.264172  # Change gallons to liters\n",
        "    else:\n",
        "        raise ValueError(\"Wrong unit for volume.\")\n",
        "\n",
        "def main():\n",
        "    print(\"Unit Conversion Program\")\n",
        "    print(\"1. Length: meters to feet or feet to meters\")\n",
        "    print(\"2. Weight: kg to lbs or lbs to kg\")\n",
        "    print(\"3. Volume: liters to gallons or gallons to liters\")\n",
        "\n",
        "    try:\n",
        "        choice = int(input(\"Choose conversion type (1/2/3): \"))\n",
        "        value = float(input(\"Enter value to convert: \"))\n",
        "\n",
        "        if choice == 1:\n",
        "            unit = input(\"Enter unit (m for meters, ft for feet): \").strip().lower()\n",
        "            result = convert_length(value, unit)\n",
        "            print(f\"Converted value: {result:.2f}\")\n",
        "        elif choice == 2:\n",
        "            unit = input(\"Enter unit (kg for kilograms, lbs for pounds): \").strip().lower()\n",
        "            result = convert_weight(value, unit)\n",
        "            print(f\"Converted value: {result:.2f}\")\n",
        "        elif choice == 3:\n",
        "            unit = input(\"Enter unit (L for liters, gal for gallons): \").strip().lower()\n",
        "            result = convert_volume(value, unit)\n",
        "            print(f\"Converted value: {result:.2f}\")\n",
        "        else:\n",
        "            print(\"Wrong choice. Pick 1, 2, or 3.\")\n",
        "    except ValueError as e:\n",
        "        print(f\"Error: {e}. Enter correct number and unit.\")\n",
        "\n",
        "if __name__ == \"__main__\":\n",
        "    main()"
      ],
      "metadata": {
        "colab": {
          "base_uri": "https://localhost:8080/"
        },
        "id": "6oq1soBkE16e",
        "outputId": "05b58e10-b687-461c-e74e-85562992e89d"
      },
      "execution_count": 51,
      "outputs": [
        {
          "output_type": "stream",
          "name": "stdout",
          "text": [
            "Unit Conversion Program\n",
            "1. Length: meters to feet or feet to meters\n",
            "2. Weight: kg to lbs or lbs to kg\n",
            "3. Volume: liters to gallons or gallons to liters\n",
            "Choose conversion type (1/2/3): 2\n",
            "Enter value to convert: 5\n",
            "Enter unit (kg for kilograms, lbs for pounds): lbs\n",
            "Converted value: 2.27\n"
          ]
        }
      ]
    },
    {
      "cell_type": "markdown",
      "source": [
        "TASK 2"
      ],
      "metadata": {
        "id": "Up0EwqKyHSih"
      }
    },
    {
      "cell_type": "markdown",
      "source": [
        " Create a Python program that performs various mathematical operations on a list of numbers"
      ],
      "metadata": {
        "id": "PL_wZPxbICop"
      }
    },
    {
      "cell_type": "code",
      "source": [
        "def find_sum(numbers):\n",
        "    \"\"\"\n",
        "    Add all numbers in the list and return the total.\n",
        "    \"\"\"\n",
        "    return sum(numbers)\n",
        "\n",
        "def find_average(numbers):\n",
        "    \"\"\"\n",
        "    Calculate the average by dividing the total by the number of items.\n",
        "    \"\"\"\n",
        "    return sum(numbers) / len(numbers)\n",
        "\n",
        "def find_maximum(numbers):\n",
        "    \"\"\"\n",
        "    Find and return the largest number in the list.\n",
        "    \"\"\"\n",
        "    return max(numbers)\n",
        "\n",
        "def find_minimum(numbers):\n",
        "    \"\"\"\n",
        "    Find and return the smallest number in the list.\n",
        "    \"\"\"\n",
        "    return min(numbers)\n",
        "\n",
        "def main():\n",
        "    print(\"Math Operations on a List\")\n",
        "    print(\"1. Find Sum\")\n",
        "    print(\"2. Find Average\")\n",
        "    print(\"3. Find Maximum\")\n",
        "    print(\"4. Find Minimum\")\n",
        "\n",
        "    try:\n",
        "        choice = int(input(\"Choose an operation (1/2/3/4): \"))  # Ask user which operation to do\n",
        "        numbers = list(map(float, input(\"Enter numbers separated by spaces: \").split()))  # Get list of numbers\n",
        "\n",
        "        if not numbers:\n",
        "            raise ValueError(\"List is empty. Enter some numbers.\")  # Check if list is empty\n",
        "\n",
        "        if choice == 1:\n",
        "            result = find_sum(numbers)  # Call function to find sum\n",
        "        elif choice == 2:\n",
        "            result = find_average(numbers)  # Call function to find average\n",
        "        elif choice == 3:\n",
        "            result = find_maximum(numbers)  # Call function to find max\n",
        "        elif choice == 4:\n",
        "            result = find_minimum(numbers)  # Call function to find min\n",
        "        else:\n",
        "            print(\"Invalid choice. Pick 1, 2, 3, or 4.\")  # Handle wrong input\n",
        "            return\n",
        "\n",
        "        print(f\"Result: {result:.2f}\")  # Show final answer\n",
        "    except ValueError as e:\n",
        "        print(f\"Error: {e}. Enter numbers correctly.\")  # Handle wrong inputs\n",
        "\n",
        "if __name__ == \"__main__\":\n",
        "    main()\n"
      ],
      "metadata": {
        "colab": {
          "base_uri": "https://localhost:8080/"
        },
        "id": "6lic7M8uIFkl",
        "outputId": "c5ad88ab-c0ec-4df6-f710-a5b11a5a9c13"
      },
      "execution_count": 49,
      "outputs": [
        {
          "output_type": "stream",
          "name": "stdout",
          "text": [
            "Math Operations on a List\n",
            "1. Find Sum\n",
            "2. Find Average\n",
            "3. Find Maximum\n",
            "4. Find Minimum\n",
            "Choose an operation (1/2/3/4): 1\n",
            "Enter numbers separated by spaces: 4 6 8\n",
            "Result: 18.00\n"
          ]
        }
      ]
    },
    {
      "cell_type": "markdown",
      "source": [
        "4.2 Exercise on List Manipulation:"
      ],
      "metadata": {
        "id": "V8t1BoMoLs4D"
      }
    },
    {
      "cell_type": "markdown",
      "source": [
        " Write a Python function that extracts every other element from a list, starting from the first element"
      ],
      "metadata": {
        "id": "Nah5hoeFMMmJ"
      }
    },
    {
      "cell_type": "code",
      "source": [
        "def extract_every_other(lst):\n",
        "    \"\"\"\n",
        "    This function takes a list and returns a new list\n",
        "    containing every other element from the original list.\n",
        "    \"\"\"\n",
        "    return lst[::2]  # Select every second element from the list\n",
        "\n",
        "# Example usage\n",
        "numbers = [4, 5, 6, 7, 8, 9]  # Sample list\n",
        "result = extract_every_other(numbers)  # Call function\n",
        "print(result)  # Display result"
      ],
      "metadata": {
        "colab": {
          "base_uri": "https://localhost:8080/"
        },
        "id": "ckZo7SsIMTAN",
        "outputId": "5c3a4563-5f1e-48b2-fd0a-0c93183f9a2b"
      },
      "execution_count": 52,
      "outputs": [
        {
          "output_type": "stream",
          "name": "stdout",
          "text": [
            "[4, 6, 8]\n"
          ]
        }
      ]
    },
    {
      "cell_type": "markdown",
      "source": [
        " 2. Slice a Sublist:"
      ],
      "metadata": {
        "id": "8KPDtzJ0NMeD"
      }
    },
    {
      "cell_type": "markdown",
      "source": [
        " Write a Python function that returns a sublist from a given list, starting from a specified index and\n",
        " ending at another specified index."
      ],
      "metadata": {
        "id": "MsWE3FNpNP3H"
      }
    },
    {
      "cell_type": "code",
      "source": [
        "def get_sublist(lst, start, end):\n",
        "    return lst[start:end+1]  # Slice the list from 'start' to 'end' (inclusive)\n",
        "\n",
        "# Example usage\n",
        "lst = [1, 2, 3, 4, 5, 6]  # Given list\n",
        "start = 2  # Starting index\n",
        "end = 4  # Ending index\n",
        "\n",
        "result = get_sublist(lst, start, end)  # Get the sublist\n",
        "print(result)  # Print the result\n"
      ],
      "metadata": {
        "colab": {
          "base_uri": "https://localhost:8080/"
        },
        "id": "MfGj6ErGNS-v",
        "outputId": "5ec9f8a5-e0eb-4866-db70-0055aaea074e"
      },
      "execution_count": 53,
      "outputs": [
        {
          "output_type": "stream",
          "name": "stdout",
          "text": [
            "[3, 4, 5]\n"
          ]
        }
      ]
    },
    {
      "cell_type": "markdown",
      "source": [
        " 3. Reverse a List Using Slicing:"
      ],
      "metadata": {
        "id": "XUa-MLX_OdbN"
      }
    },
    {
      "cell_type": "markdown",
      "source": [
        "Write a Python function that reverses a list using slicing."
      ],
      "metadata": {
        "id": "faZjRAr2OeSK"
      }
    },
    {
      "cell_type": "code",
      "source": [
        "def reverse_slicing(lst):\n",
        "    return lst[::-1]  # Use slicing to reverse the list\n",
        "\n",
        "# Example usage\n",
        "lst = [1, 2, 3, 4, 5]  # Given list\n",
        "result = reverse_slicing(lst)  # Reverse the list\n",
        "print(result)  # Print the reversed list\n"
      ],
      "metadata": {
        "colab": {
          "base_uri": "https://localhost:8080/"
        },
        "id": "r_BYLelIOhWg",
        "outputId": "f42d64fa-f26c-4016-ea98-7317ba20f027"
      },
      "execution_count": 54,
      "outputs": [
        {
          "output_type": "stream",
          "name": "stdout",
          "text": [
            "[5, 4, 3, 2, 1]\n"
          ]
        }
      ]
    },
    {
      "cell_type": "markdown",
      "source": [
        "4. Remove the First and Last Elements:"
      ],
      "metadata": {
        "id": "e5OFt1_1O1Xe"
      }
    },
    {
      "cell_type": "markdown",
      "source": [
        " Write a Python function that removes the first and last elements of a list and returns the resulting\n",
        " sublist."
      ],
      "metadata": {
        "id": "kOwVTU7vO2Nx"
      }
    },
    {
      "cell_type": "code",
      "source": [
        "def remove_first_last(lst):\n",
        "    return lst[1:-1]  # Slice the list to remove the first and last elements\n",
        "\n",
        "# Example usage\n",
        "lst = [1, 2, 3, 4, 5]  # Given list\n",
        "result = remove_first_last(lst)  # Remove first and last elements\n",
        "print(result)  # Print the resulting sublist\n"
      ],
      "metadata": {
        "colab": {
          "base_uri": "https://localhost:8080/"
        },
        "id": "lrr0tpA6O6EE",
        "outputId": "11173756-79a2-4bd8-f6ff-80f6508c0ae7"
      },
      "execution_count": 55,
      "outputs": [
        {
          "output_type": "stream",
          "name": "stdout",
          "text": [
            "[2, 3, 4]\n"
          ]
        }
      ]
    },
    {
      "cell_type": "markdown",
      "source": [
        "5. Get the First n Elements:"
      ],
      "metadata": {
        "id": "1THwOAw1PGHJ"
      }
    },
    {
      "cell_type": "markdown",
      "source": [
        "Write a Python function that extracts the first n elements from a list."
      ],
      "metadata": {
        "id": "691pTo_ZPG9T"
      }
    },
    {
      "cell_type": "code",
      "source": [
        "def get_first_n(lst, n):\n",
        "    return lst[:n]  # Slice the list to get the first n elements\n",
        "\n",
        "# Example usage\n",
        "lst = [1, 2, 3, 4, 5]  # Given list\n",
        "n = 3  # Number of elements to extract\n",
        "result = get_first_n(lst, n)  # Get the first n elements\n",
        "print(result)  # Print the result\n"
      ],
      "metadata": {
        "colab": {
          "base_uri": "https://localhost:8080/"
        },
        "id": "6okI0EF0PKkp",
        "outputId": "d0df88b2-7914-47e4-d767-3cc4829f3d34"
      },
      "execution_count": 56,
      "outputs": [
        {
          "output_type": "stream",
          "name": "stdout",
          "text": [
            "[1, 2, 3]\n"
          ]
        }
      ]
    },
    {
      "cell_type": "markdown",
      "source": [
        "6. Extract Elements from the End:"
      ],
      "metadata": {
        "id": "3nbayMJwPiPz"
      }
    },
    {
      "cell_type": "markdown",
      "source": [
        "Write a Python function that extracts the last n elements of a list using slicing."
      ],
      "metadata": {
        "id": "vNyH9JQWPjOX"
      }
    },
    {
      "cell_type": "code",
      "source": [
        "def get_last_n(lst, n):\n",
        "    return lst[-n:]  # Slice the list to get the last n elements\n",
        "\n",
        "# Example usage\n",
        "lst = [1, 2, 3, 4, 5]  # Given list\n",
        "n = 2  # Number of elements to extract\n",
        "result = get_last_n(lst, n)  # Get the last n elements\n",
        "print(result)  # Print the result\n"
      ],
      "metadata": {
        "colab": {
          "base_uri": "https://localhost:8080/"
        },
        "id": "J3xdxUYqPmem",
        "outputId": "49a59060-691d-4d49-b074-542bb866b48e"
      },
      "execution_count": 57,
      "outputs": [
        {
          "output_type": "stream",
          "name": "stdout",
          "text": [
            "[4, 5]\n"
          ]
        }
      ]
    },
    {
      "cell_type": "markdown",
      "source": [
        "7. Extract Elements in Reverse Order:"
      ],
      "metadata": {
        "id": "xfe2gEq_QPgb"
      }
    },
    {
      "cell_type": "markdown",
      "source": [
        "Write a Python function that extracts a list of elements in reverse order starting from the second-to-last\n",
        " element and skipping one element in between."
      ],
      "metadata": {
        "id": "m-MuIorfQQfm"
      }
    },
    {
      "cell_type": "code",
      "source": [
        "def reverse_skip(lst):\n",
        "    return lst[-2::-2]  # Start from second-to-last and skip every other element moving backward\n",
        "\n",
        "# Example usage\n",
        "lst = [1, 2, 3, 4, 5, 6]  # Given list\n",
        "result = reverse_skip(lst)  # Extract every second element in reverse order\n",
        "print(result)  # Print the result\n"
      ],
      "metadata": {
        "colab": {
          "base_uri": "https://localhost:8080/"
        },
        "id": "oFXtfA4KQVL0",
        "outputId": "edd3c1ea-87b2-4435-ac5f-339543c05580"
      },
      "execution_count": 58,
      "outputs": [
        {
          "output_type": "stream",
          "name": "stdout",
          "text": [
            "[5, 3, 1]\n"
          ]
        }
      ]
    },
    {
      "cell_type": "markdown",
      "source": [
        "**4.3 Exercise on Nested List:**"
      ],
      "metadata": {
        "id": "5HsVDK6oQqtR"
      }
    },
    {
      "cell_type": "markdown",
      "source": [
        " 1. Flatten a Nested List:"
      ],
      "metadata": {
        "id": "3qPHVSmkQuNv"
      }
    },
    {
      "cell_type": "markdown",
      "source": [
        "Write a Python function that takes a nested list and flattens it into a single list, where all the elements\n",
        " are in a single dimension."
      ],
      "metadata": {
        "id": "lGlMY2POQyXM"
      }
    },
    {
      "cell_type": "code",
      "source": [
        "def flatten(lst):\n",
        "    # Use a list comprehension to flatten the list\n",
        "    return [item for sublist in lst for item in sublist]\n",
        "\n",
        "# Example usage\n",
        "nested_lst = [[1, 2], [3, 4], [5]]  # Given nested list\n",
        "result = flatten(nested_lst)  # Flatten the nested list\n",
        "print(result)  # Print the flattened list\n"
      ],
      "metadata": {
        "colab": {
          "base_uri": "https://localhost:8080/"
        },
        "id": "T5Ggs5KMQ5UN",
        "outputId": "cfab5345-3d82-4c94-f291-f7d13b96485c"
      },
      "execution_count": 59,
      "outputs": [
        {
          "output_type": "stream",
          "name": "stdout",
          "text": [
            "[1, 2, 3, 4, 5]\n"
          ]
        }
      ]
    },
    {
      "cell_type": "markdown",
      "source": [
        "2. Accessing Nested List Elements:"
      ],
      "metadata": {
        "id": "OrnyVAOeRUxp"
      }
    },
    {
      "cell_type": "markdown",
      "source": [
        "Write a Python function that extracts a specific element from a nested list given its indices."
      ],
      "metadata": {
        "id": "Ssbw3wtZRbzI"
      }
    },
    {
      "cell_type": "code",
      "source": [
        "def access_nested_element(lst, indices):\n",
        "    # Use the indices to access the element in the nested list\n",
        "    for index in indices:\n",
        "        lst = lst[index]  # Access the sublist at the given index\n",
        "    return lst  # Return the final element\n",
        "\n",
        "# Example usage\n",
        "lst = [[1, 2, 3], [4, 5, 6], [7, 8, 9]]  # Given nested list\n",
        "indices = [1, 2]  # Indices to access the element\n",
        "result = access_nested_element(lst, indices)  # Get the element at the given indices\n",
        "print(result)  # Print the result\n"
      ],
      "metadata": {
        "colab": {
          "base_uri": "https://localhost:8080/"
        },
        "id": "7O1dj5pvRgII",
        "outputId": "761ab252-6bcd-4048-b586-aa46a1a8931b"
      },
      "execution_count": 60,
      "outputs": [
        {
          "output_type": "stream",
          "name": "stdout",
          "text": [
            "6\n"
          ]
        }
      ]
    },
    {
      "cell_type": "markdown",
      "source": [
        " 3. Sum of All Elements in a Nested List:"
      ],
      "metadata": {
        "id": "gs9-DYODRnJA"
      }
    },
    {
      "cell_type": "markdown",
      "source": [
        "Write a Python function that calculates the sum of all the numbers in a nested list (regardless of depth)."
      ],
      "metadata": {
        "id": "WHstVTzzRqgA"
      }
    },
    {
      "cell_type": "code",
      "source": [
        "def sum_nested(lst):\n",
        "    total = 0\n",
        "    for item in lst:\n",
        "        if isinstance(item, list):  # If the item is a list, call sum_nested recursively\n",
        "            total += sum_nested(item)\n",
        "        else:\n",
        "            total += item  # If it's not a list, add the value to the total\n",
        "    return total\n",
        "\n",
        "# Example usage\n",
        "lst = [[1, 2], [3, [4, 5]], 6]  # Given nested list\n",
        "result = sum_nested(lst)  # Calculate the sum of all elements\n",
        "print(result)  # Print the result\n"
      ],
      "metadata": {
        "colab": {
          "base_uri": "https://localhost:8080/"
        },
        "id": "CzWmiYt7Rt5x",
        "outputId": "087be89b-e368-4f06-98d2-bbd9adabb28a"
      },
      "execution_count": 61,
      "outputs": [
        {
          "output_type": "stream",
          "name": "stdout",
          "text": [
            "21\n"
          ]
        }
      ]
    },
    {
      "cell_type": "markdown",
      "source": [
        " 4. Remove Specific Element from a Nested List:"
      ],
      "metadata": {
        "id": "xAz-EyGkR2hS"
      }
    },
    {
      "cell_type": "markdown",
      "source": [
        "Write a Python function that removes all occurrences of a specific element from a nested list."
      ],
      "metadata": {
        "id": "-aAQRnjeR5cG"
      }
    },
    {
      "cell_type": "code",
      "source": [
        "def remove_element(lst, elem):\n",
        "    for i in range(len(lst)):\n",
        "        if isinstance(lst[i], list):  # If the item is a list, call remove_element recursively\n",
        "            lst[i] = remove_element(lst[i], elem)\n",
        "        else:\n",
        "            if lst[i] == elem:  # Remove the element if it matches\n",
        "                lst[i] = None  # Replace with None temporarily\n",
        "    # Remove any None values\n",
        "    lst = [x for x in lst if x is not None]\n",
        "    return lst\n",
        "\n",
        "# Example usage\n",
        "lst = [[1, 2], [3, 2], [4, 5]]  # Given nested list\n",
        "elem = 2  # Element to remove\n",
        "result = remove_element(lst, elem)  # Remove the element\n",
        "print(result)  # Print the modified list\n"
      ],
      "metadata": {
        "colab": {
          "base_uri": "https://localhost:8080/"
        },
        "id": "Nj1zF3wKR89R",
        "outputId": "1e62f6d6-3000-4ac2-c4d0-70f4021f67f4"
      },
      "execution_count": 62,
      "outputs": [
        {
          "output_type": "stream",
          "name": "stdout",
          "text": [
            "[[1], [3], [4, 5]]\n"
          ]
        }
      ]
    },
    {
      "cell_type": "markdown",
      "source": [
        " 5. Find the Maximum Element in a Nested List:"
      ],
      "metadata": {
        "id": "ucGO34x1SLRZ"
      }
    },
    {
      "cell_type": "markdown",
      "source": [
        "Write a Python function that finds the maximum element in a nested list (regardless of depth)."
      ],
      "metadata": {
        "id": "4nyrClo0SL9f"
      }
    },
    {
      "cell_type": "code",
      "source": [
        "def find_max(lst):\n",
        "    max_elem = float('-inf')  # Start with a very low value\n",
        "    for item in lst:\n",
        "        if isinstance(item, list):  # If the item is a list, call find_max recursively\n",
        "            max_elem = max(max_elem, find_max(item))\n",
        "        else:\n",
        "            max_elem = max(max_elem, item)  # If it's not a list, compare the item with max_elem\n",
        "    return max_elem\n",
        "\n",
        "# Example usage\n",
        "lst = [[1, 2], [3, [4, 5]], 6]  # Given nested list\n",
        "result = find_max(lst)  # Find the maximum element\n",
        "print(result)  # Print the result\n"
      ],
      "metadata": {
        "colab": {
          "base_uri": "https://localhost:8080/"
        },
        "id": "QapjddU4SO5w",
        "outputId": "5261f60c-d51e-4686-9409-c4b08c00049f"
      },
      "execution_count": 63,
      "outputs": [
        {
          "output_type": "stream",
          "name": "stdout",
          "text": [
            "6\n"
          ]
        }
      ]
    },
    {
      "cell_type": "markdown",
      "source": [
        "6. Count Occurrences of an Element in a Nested List:"
      ],
      "metadata": {
        "id": "2igcEWXASbVQ"
      }
    },
    {
      "cell_type": "markdown",
      "source": [
        "Write a Python function that counts how many times a specific element appears in a nested list."
      ],
      "metadata": {
        "id": "53E-4Yw5ScCq"
      }
    },
    {
      "cell_type": "code",
      "source": [
        "def count_occurrences(lst, elem):\n",
        "    count = 0\n",
        "    for item in lst:\n",
        "        if isinstance(item, list):  # If the item is a list, call count_occurrences recursively\n",
        "            count += count_occurrences(item, elem)\n",
        "        else:\n",
        "            if item == elem:  # If it's not a list and matches elem, increment the count\n",
        "                count += 1\n",
        "    return count\n",
        "\n",
        "# Example usage\n",
        "lst = [[1, 2], [2, 3], [2, 4]]  # Given nested list\n",
        "elem = 2  # Element to count occurrences\n",
        "result = count_occurrences(lst, elem)  # Count the occurrences of elem\n",
        "print(result)  # Print the result\n"
      ],
      "metadata": {
        "colab": {
          "base_uri": "https://localhost:8080/"
        },
        "id": "ncZUliVSSfa6",
        "outputId": "56236772-50f2-4a29-f266-63debd27aed4"
      },
      "execution_count": 64,
      "outputs": [
        {
          "output_type": "stream",
          "name": "stdout",
          "text": [
            "3\n"
          ]
        }
      ]
    },
    {
      "cell_type": "markdown",
      "source": [
        "7. Flatten a List of Lists of Lists:"
      ],
      "metadata": {
        "id": "AOktweBHSpYh"
      }
    },
    {
      "cell_type": "markdown",
      "source": [
        "Write a Python function that flattens a list of lists of lists into a single list, regardless of the depth."
      ],
      "metadata": {
        "id": "SusVrdkTSp9y"
      }
    },
    {
      "cell_type": "code",
      "source": [
        "def deep_flatten(lst):\n",
        "    flattened = []  # Initialize an empty list to store the flattened elements\n",
        "    for item in lst:\n",
        "        if isinstance(item, list):  # If the item is a list, call deep_flatten recursively\n",
        "            flattened.extend(deep_flatten(item))\n",
        "        else:\n",
        "            flattened.append(item)  # If it's not a list, add the item to the flattened list\n",
        "    return flattened\n",
        "\n",
        "# Example usage\n",
        "lst = [[[1, 2], [3, 4]], [[5, 6], [7, 8]]]  # Given deeply nested list\n",
        "result = deep_flatten(lst)  # Flatten the deeply nested list\n",
        "print(result)  # Print the result\n"
      ],
      "metadata": {
        "colab": {
          "base_uri": "https://localhost:8080/"
        },
        "id": "DC99outuSs0B",
        "outputId": "0ebc5c2d-cf95-4cdd-83a7-bb8f3c3b0eb1"
      },
      "execution_count": 65,
      "outputs": [
        {
          "output_type": "stream",
          "name": "stdout",
          "text": [
            "[1, 2, 3, 4, 5, 6, 7, 8]\n"
          ]
        }
      ]
    },
    {
      "cell_type": "markdown",
      "source": [
        " 8. Nested List Average:"
      ],
      "metadata": {
        "id": "XEHzyDzoS2yT"
      }
    },
    {
      "cell_type": "markdown",
      "source": [
        "Write a Python function that calculates the average of all elements in a nested list."
      ],
      "metadata": {
        "id": "JZXaNOOsS3oZ"
      }
    },
    {
      "cell_type": "code",
      "source": [
        "def average_nested(lst):\n",
        "    total = 0\n",
        "    count = 0\n",
        "    for item in lst:\n",
        "        if isinstance(item, list):  # If the item is a list, call average_nested recursively\n",
        "            sub_total, sub_count = average_nested(item)\n",
        "            total += sub_total\n",
        "            count += sub_count\n",
        "        else:\n",
        "            total += item  # If it's not a list, add the item to the total\n",
        "            count += 1  # Increment the count for each item\n",
        "    return total, count  # Return total sum and count of elements\n",
        "\n",
        "# Example usage\n",
        "lst = [[1, 2], [3, 4], [5, 6]]  # Given nested list\n",
        "total, count = average_nested(lst)  # Calculate the total and count\n",
        "average = total / count  # Calculate the average\n",
        "print(average)  # Print the average\n"
      ],
      "metadata": {
        "colab": {
          "base_uri": "https://localhost:8080/"
        },
        "id": "LJ4iMdTES7Ep",
        "outputId": "27577c37-140a-4e9f-b81b-457fb40750e3"
      },
      "execution_count": 66,
      "outputs": [
        {
          "output_type": "stream",
          "name": "stdout",
          "text": [
            "3.5\n"
          ]
        }
      ]
    },
    {
      "cell_type": "markdown",
      "source": [
        "10.1 Basic Vector and Matrix Operation with Numpy."
      ],
      "metadata": {
        "id": "_CeVVtziX59l"
      }
    },
    {
      "cell_type": "markdown",
      "source": [
        " Problem- 1: Array Creation:"
      ],
      "metadata": {
        "id": "yQH3z7NjYCdM"
      }
    },
    {
      "cell_type": "code",
      "source": [
        "import numpy as np\n",
        "\n",
        "# 1. Initialize an empty array with size 2X2\n",
        "empty_array = np.empty((2, 2))  # Creates an empty array of shape 2x2\n",
        "print(\"Empty Array (2x2):\")\n",
        "print(empty_array)\n",
        "\n",
        "# 2. Initialize an all one array with size 4X2\n",
        "ones_array = np.ones((4, 2))  # Creates an array of ones with shape 4x2\n",
        "print(\"\\nAll Ones Array (4x2):\")\n",
        "print(ones_array)\n",
        "\n",
        "# 3. Return a new array of given shape and type, filled with fill value\n",
        "shape = (3, 3)  # Example shape (3x3)\n",
        "fill_value = 7  # Fill value to use for the array\n",
        "filled_array = np.full(shape, fill_value)  # Creates an array of shape (3x3) filled with value 7\n",
        "print(\"\\nArray Filled with Value 7 (3x3):\")\n",
        "print(filled_array)\n",
        "\n",
        "# 4. Return a new array of zeros with same shape and type as a given array\n",
        "reference_array = np.array([[5, 6], [7, 8]])  # A reference array to match shape\n",
        "zeros_like_array = np.zeros_like(reference_array)  # Creates an array of zeros with the same shape and type as reference_array\n",
        "print(\"\\nZeros-like Array with Same Shape as Reference Array:\")\n",
        "print(zeros_like_array)\n",
        "\n",
        "# 5. Return a new array of ones with same shape and type as a given array\n",
        "ones_like_array = np.ones_like(reference_array)  # Creates an array of ones with the same shape and type as reference_array\n",
        "print(\"\\nOnes-like Array with Same Shape as Reference Array:\")\n",
        "print(ones_like_array)\n",
        "\n",
        "# 6. Convert an existing list to a NumPy array\n",
        "new_list = [1, 2, 3, 4]  # A simple Python list\n",
        "numpy_array = np.array(new_list)  # Converts the Python list to a NumPy array\n",
        "print(\"\\nConverted List to NumPy Array:\")\n",
        "print(numpy_array)\n"
      ],
      "metadata": {
        "colab": {
          "base_uri": "https://localhost:8080/"
        },
        "id": "PrkAj3Eieqo2",
        "outputId": "aeafc356-3464-4411-d039-97da5d521b16"
      },
      "execution_count": 67,
      "outputs": [
        {
          "output_type": "stream",
          "name": "stdout",
          "text": [
            "Empty Array (2x2):\n",
            "[[1.00000000e+00 0.00000000e+00]\n",
            " [1.77635684e-15 1.00000000e+00]]\n",
            "\n",
            "All Ones Array (4x2):\n",
            "[[1. 1.]\n",
            " [1. 1.]\n",
            " [1. 1.]\n",
            " [1. 1.]]\n",
            "\n",
            "Array Filled with Value 7 (3x3):\n",
            "[[7 7 7]\n",
            " [7 7 7]\n",
            " [7 7 7]]\n",
            "\n",
            "Zeros-like Array with Same Shape as Reference Array:\n",
            "[[0 0]\n",
            " [0 0]]\n",
            "\n",
            "Ones-like Array with Same Shape as Reference Array:\n",
            "[[1 1]\n",
            " [1 1]]\n",
            "\n",
            "Converted List to NumPy Array:\n",
            "[1 2 3 4]\n"
          ]
        }
      ]
    },
    {
      "cell_type": "markdown",
      "source": [
        " Problem- 2: Array Manipulation: Numerical Ranges and Array indexing:"
      ],
      "metadata": {
        "id": "bz4Xfti9fAKv"
      }
    },
    {
      "cell_type": "code",
      "source": [
        "import numpy as np\n",
        "\n",
        "# 1. Create an array with values ranging from 10 to 49\n",
        "array_1 = np.arange(10, 50)  # Create an array from 10 to 49\n",
        "print(\"Array with values from 10 to 49:\")\n",
        "print(array_1)\n",
        "\n",
        "# 2. Create a 3X3 matrix with values ranging from 0 to 8\n",
        "matrix_2 = np.arange(9).reshape(3, 3)  # Create an array from 0 to 8 and reshape it into a 3x3 matrix\n",
        "print(\"\\n3X3 matrix with values ranging from 0 to 8:\")\n",
        "print(matrix_2)\n",
        "\n",
        "# 3. Create a 3X3 identity matrix\n",
        "identity_matrix = np.eye(3)  # Create a 3x3 identity matrix (1s on the diagonal, 0s elsewhere)\n",
        "print(\"\\n3X3 Identity matrix:\")\n",
        "print(identity_matrix)\n",
        "\n",
        "# 4. Create a random array of size 30 and find the mean of the array\n",
        "random_array = np.random.random(30)  # Create a random array of 30 values\n",
        "mean_value = random_array.mean()  # Find the mean of the random array\n",
        "print(\"\\nRandom array of size 30:\")\n",
        "print(random_array)\n",
        "print(\"Mean of the array:\", mean_value)\n",
        "\n",
        "# 5. Create a 10X10 array with random values and find the minimum and maximum values\n",
        "array_5 = np.random.random((10, 10))  # Create a 10x10 array with random values\n",
        "min_value = array_5.min()  # Find the minimum value in the array\n",
        "max_value = array_5.max()  # Find the maximum value in the array\n",
        "print(\"\\n10X10 array with random values:\")\n",
        "print(array_5)\n",
        "print(\"Minimum value:\", min_value)\n",
        "print(\"Maximum value:\", max_value)\n",
        "\n",
        "# 6. Create a zero array of size 10 and replace the 5th element with 1\n",
        "zero_array = np.zeros(10)  # Create an array of 10 zeros\n",
        "zero_array[4] = 1  # Replace the 5th element (index 4) with 1\n",
        "print(\"\\nZero array with the 5th element replaced by 1:\")\n",
        "print(zero_array)\n",
        "\n",
        "# 7. Reverse an array arr = [1, 2, 0, 0, 4, 0]\n",
        "arr = np.array([1, 2, 0, 0, 4, 0])  # Create a numpy array\n",
        "reversed_arr = arr[::-1]  # Reverse the array using slicing\n",
        "print(\"\\nReversed array:\")\n",
        "print(reversed_arr)\n",
        "\n",
        "# 8. Create a 2d array with 1 on the border and 0 inside\n",
        "border_array = np.ones((5, 5))  # Create a 5x5 array filled with ones\n",
        "border_array[1:-1, 1:-1] = 0  # Set the inner elements to 0 (excluding the border)\n",
        "print(\"\\n2D array with 1 on border and 0 inside:\")\n",
        "print(border_array)\n",
        "\n",
        "# 9. Create an 8X8 matrix and fill it with a checkerboard pattern\n",
        "checkerboard = np.zeros((8, 8), dtype=int)  # Create an 8x8 array filled with zeros\n",
        "checkerboard[1::2, ::2] = 1  # Set alternating elements to 1\n",
        "checkerboard[::2, 1::2] = 1  # Set alternating elements to 1 in the other direction\n",
        "print(\"\\n8X8 Checkerboard pattern matrix:\")\n",
        "print(checkerboard)\n"
      ],
      "metadata": {
        "colab": {
          "base_uri": "https://localhost:8080/"
        },
        "id": "lSE5mW8KfHyf",
        "outputId": "db9219ff-a2b3-4211-8803-7fe516f6fe87"
      },
      "execution_count": 68,
      "outputs": [
        {
          "output_type": "stream",
          "name": "stdout",
          "text": [
            "Array with values from 10 to 49:\n",
            "[10 11 12 13 14 15 16 17 18 19 20 21 22 23 24 25 26 27 28 29 30 31 32 33\n",
            " 34 35 36 37 38 39 40 41 42 43 44 45 46 47 48 49]\n",
            "\n",
            "3X3 matrix with values ranging from 0 to 8:\n",
            "[[0 1 2]\n",
            " [3 4 5]\n",
            " [6 7 8]]\n",
            "\n",
            "3X3 Identity matrix:\n",
            "[[1. 0. 0.]\n",
            " [0. 1. 0.]\n",
            " [0. 0. 1.]]\n",
            "\n",
            "Random array of size 30:\n",
            "[0.32989239 0.74249809 0.55695496 0.99677171 0.22350779 0.29950847\n",
            " 0.67099275 0.27231211 0.37868343 0.13856608 0.80104526 0.69841857\n",
            " 0.99683007 0.03360952 0.4489821  0.76669684 0.0137519  0.10575745\n",
            " 0.03188191 0.2639641  0.91388376 0.62991274 0.24995476 0.75436719\n",
            " 0.50593344 0.73027625 0.89921771 0.18100885 0.46962139 0.10256079]\n",
            "Mean of the array: 0.47357874623811413\n",
            "\n",
            "10X10 array with random values:\n",
            "[[0.11615117 0.00947371 0.97682343 0.06299092 0.28839573 0.81271531\n",
            "  0.30192592 0.54091419 0.55955987 0.97826422]\n",
            " [0.79700436 0.78088641 0.90113286 0.92434484 0.61639659 0.52203512\n",
            "  0.94778183 0.83292919 0.99013298 0.03615597]\n",
            " [0.07788354 0.0403413  0.32089845 0.82367863 0.29995613 0.06766763\n",
            "  0.95155746 0.9851756  0.77598317 0.42327626]\n",
            " [0.17100007 0.76016093 0.65857197 0.40439905 0.65244434 0.79697321\n",
            "  0.68135492 0.09033909 0.75194958 0.83529794]\n",
            " [0.31799586 0.68635308 0.72706215 0.24054688 0.77108626 0.7568236\n",
            "  0.16112652 0.56629203 0.38696381 0.67560833]\n",
            " [0.01024395 0.59016576 0.11655815 0.80510305 0.72466855 0.64706568\n",
            "  0.28520487 0.5081602  0.37997709 0.87436372]\n",
            " [0.18491304 0.47808648 0.09365127 0.20807721 0.53870234 0.48233191\n",
            "  0.11429075 0.11384142 0.8155354  0.03149228]\n",
            " [0.36631039 0.37440708 0.56653868 0.07621056 0.79490392 0.59408157\n",
            "  0.34843049 0.75756547 0.72949897 0.62811812]\n",
            " [0.09755776 0.92348541 0.28844662 0.72980099 0.72000366 0.51410821\n",
            "  0.92374518 0.76287865 0.70763599 0.76033915]\n",
            " [0.79916642 0.70363036 0.84412275 0.65874517 0.92275269 0.43104227\n",
            "  0.3721418  0.37279484 0.3476307  0.26693645]]\n",
            "Minimum value: 0.009473712010144686\n",
            "Maximum value: 0.9901329817272837\n",
            "\n",
            "Zero array with the 5th element replaced by 1:\n",
            "[0. 0. 0. 0. 1. 0. 0. 0. 0. 0.]\n",
            "\n",
            "Reversed array:\n",
            "[0 4 0 0 2 1]\n",
            "\n",
            "2D array with 1 on border and 0 inside:\n",
            "[[1. 1. 1. 1. 1.]\n",
            " [1. 0. 0. 0. 1.]\n",
            " [1. 0. 0. 0. 1.]\n",
            " [1. 0. 0. 0. 1.]\n",
            " [1. 1. 1. 1. 1.]]\n",
            "\n",
            "8X8 Checkerboard pattern matrix:\n",
            "[[0 1 0 1 0 1 0 1]\n",
            " [1 0 1 0 1 0 1 0]\n",
            " [0 1 0 1 0 1 0 1]\n",
            " [1 0 1 0 1 0 1 0]\n",
            " [0 1 0 1 0 1 0 1]\n",
            " [1 0 1 0 1 0 1 0]\n",
            " [0 1 0 1 0 1 0 1]\n",
            " [1 0 1 0 1 0 1 0]]\n"
          ]
        }
      ]
    },
    {
      "cell_type": "markdown",
      "source": [
        "Problem- 3: Array Operations:"
      ],
      "metadata": {
        "id": "X6pynPAgh31e"
      }
    },
    {
      "cell_type": "code",
      "source": [
        "import numpy as np\n",
        "\n",
        "# Define the arrays\n",
        "x = np.array([[1, 2], [3, 5]])  # 2x2 matrix\n",
        "y = np.array([[5, 6], [7, 8]])  # 2x2 matrix\n",
        "v = np.array([9, 10])           # 1D array with 2 elements\n",
        "w = np.array([11, 12])          # 1D array with 2 elements\n",
        "\n",
        "# 1. Add the two arrays\n",
        "add_result = x + y  # Element-wise addition of arrays x and y\n",
        "print(\"Addition of x and y:\")\n",
        "print(add_result)\n",
        "\n",
        "# 2. Subtract the two arrays\n",
        "subtract_result = x - y  # Element-wise subtraction of arrays x and y\n",
        "print(\"\\nSubtraction of x and y:\")\n",
        "print(subtract_result)\n",
        "\n",
        "# 3. Multiply the array with any integers of your choice\n",
        "multiply_result = x * 2  # Multiply every element in array x by 2\n",
        "print(\"\\nMultiplying x by 2:\")\n",
        "print(multiply_result)\n",
        "\n",
        "# 4. Find the square of each element of the array\n",
        "square_result = np.square(x)  # Square each element of array x\n",
        "print(\"\\nSquare of each element in x:\")\n",
        "print(square_result)\n",
        "\n",
        "# 5. Find the dot product between:\n",
        "# v and w\n",
        "dot_v_w = np.dot(v, w)  # Dot product of v and w (scalar result)\n",
        "print(\"\\nDot product of v and w:\")\n",
        "print(dot_v_w)\n",
        "\n",
        "# x and v\n",
        "dot_x_v = np.dot(x, v)  # Dot product of x and v (matrix-vector multiplication)\n",
        "print(\"\\nDot product of x and v:\")\n",
        "print(dot_x_v)\n",
        "\n",
        "# x and y\n",
        "dot_x_y = np.dot(x, y)  # Dot product of x and y (matrix-matrix multiplication)\n",
        "print(\"\\nDot product of x and y:\")\n",
        "print(dot_x_y)\n",
        "\n",
        "# 6. Concatenate x and y along rows and concatenate v and w along columns\n",
        "concat_x_y_row = np.concatenate((x, y), axis=0)  # Concatenate x and y along rows (stack vertically)\n",
        "print(\"\\nConcatenating x and y along rows:\")\n",
        "print(concat_x_y_row)\n",
        "\n",
        "concat_v_w_column = np.concatenate((v.reshape(-1, 1), w.reshape(-1, 1)), axis=1)  # Reshape v and w to column vectors, then concatenate along columns\n",
        "print(\"\\nConcatenating v and w along columns:\")\n",
        "print(concat_v_w_column)\n",
        "\n",
        "# 7. Concatenate x and v; if an error occurs, observe and explain\n",
        "try:\n",
        "    concat_x_v = np.concatenate((x, v), axis=0)  # Try concatenating x and v along rows\n",
        "    print(\"\\nConcatenating x and v along rows:\")\n",
        "    print(concat_x_v)\n",
        "except Exception as e:\n",
        "    print(\"\\nError occurred while concatenating x and v:\")\n",
        "    print(e)\n"
      ],
      "metadata": {
        "colab": {
          "base_uri": "https://localhost:8080/"
        },
        "id": "FunOQ6Hch41l",
        "outputId": "94609590-1cb4-4f35-bdeb-0d1238244eef"
      },
      "execution_count": 69,
      "outputs": [
        {
          "output_type": "stream",
          "name": "stdout",
          "text": [
            "Addition of x and y:\n",
            "[[ 6  8]\n",
            " [10 13]]\n",
            "\n",
            "Subtraction of x and y:\n",
            "[[-4 -4]\n",
            " [-4 -3]]\n",
            "\n",
            "Multiplying x by 2:\n",
            "[[ 2  4]\n",
            " [ 6 10]]\n",
            "\n",
            "Square of each element in x:\n",
            "[[ 1  4]\n",
            " [ 9 25]]\n",
            "\n",
            "Dot product of v and w:\n",
            "219\n",
            "\n",
            "Dot product of x and v:\n",
            "[29 77]\n",
            "\n",
            "Dot product of x and y:\n",
            "[[19 22]\n",
            " [50 58]]\n",
            "\n",
            "Concatenating x and y along rows:\n",
            "[[1 2]\n",
            " [3 5]\n",
            " [5 6]\n",
            " [7 8]]\n",
            "\n",
            "Concatenating v and w along columns:\n",
            "[[ 9 11]\n",
            " [10 12]]\n",
            "\n",
            "Error occurred while concatenating x and v:\n",
            "all the input arrays must have same number of dimensions, but the array at index 0 has 2 dimension(s) and the array at index 1 has 1 dimension(s)\n"
          ]
        }
      ]
    },
    {
      "cell_type": "markdown",
      "source": [
        " Problem- 4: Matrix Operations:"
      ],
      "metadata": {
        "id": "O4MVyNSCjFBW"
      }
    },
    {
      "cell_type": "markdown",
      "source": [
        "For the following arrays:\n",
        " A = np.array([[3,4],[7,8]]) and B = np.array([[5,3],[2,1]]);\n",
        " Prove following with Numpy:"
      ],
      "metadata": {
        "id": "NnVo26PvjtHe"
      }
    },
    {
      "cell_type": "markdown",
      "source": [
        " 1. Prove A.A−1 = I."
      ],
      "metadata": {
        "id": "b_eigAVkjuDu"
      }
    },
    {
      "cell_type": "code",
      "source": [
        "import numpy as np\n",
        "\n",
        "# Matrix A\n",
        "A = np.array([[3, 4], [7, 8]])\n",
        "\n",
        "# Find the inverse of A\n",
        "A_inv = np.linalg.inv(A)\n",
        "\n",
        "# Multiply A by A's inverse\n",
        "result = np.dot(A, A_inv)\n",
        "\n",
        "# Output the result to verify it is the identity matrix\n",
        "print(\"A * A^-1 =\\n\", result)\n"
      ],
      "metadata": {
        "colab": {
          "base_uri": "https://localhost:8080/"
        },
        "id": "mx2poNVJjxSt",
        "outputId": "cf3cdb85-6be9-4fda-c348-974435beec09"
      },
      "execution_count": 70,
      "outputs": [
        {
          "output_type": "stream",
          "name": "stdout",
          "text": [
            "A * A^-1 =\n",
            " [[1.00000000e+00 0.00000000e+00]\n",
            " [1.77635684e-15 1.00000000e+00]]\n"
          ]
        }
      ]
    },
    {
      "cell_type": "markdown",
      "source": [
        " 2. Prove AB= BA."
      ],
      "metadata": {
        "id": "UEWOegyyj1UG"
      }
    },
    {
      "cell_type": "code",
      "source": [
        "# Matrix B\n",
        "B = np.array([[5, 3], [2, 1]])\n",
        "\n",
        "# Compute AB and BA\n",
        "AB = np.dot(A, B)\n",
        "BA = np.dot(B, A)\n",
        "\n",
        "# Output both products\n",
        "print(\"AB =\\n\", AB)\n",
        "print(\"BA =\\n\", BA)\n",
        "\n",
        "# Check if AB equals BA\n",
        "if np.array_equal(AB, BA):\n",
        "    print(\"AB = BA\")\n",
        "else:\n",
        "    print(\"AB != BA\")\n"
      ],
      "metadata": {
        "colab": {
          "base_uri": "https://localhost:8080/"
        },
        "id": "sfkiXDEGj4yG",
        "outputId": "48a95304-0f7e-47ef-de09-8433184d0684"
      },
      "execution_count": 71,
      "outputs": [
        {
          "output_type": "stream",
          "name": "stdout",
          "text": [
            "AB =\n",
            " [[23 13]\n",
            " [51 29]]\n",
            "BA =\n",
            " [[36 44]\n",
            " [13 16]]\n",
            "AB != BA\n"
          ]
        }
      ]
    },
    {
      "cell_type": "markdown",
      "source": [
        " 3. Prove (AB)T = BTAT."
      ],
      "metadata": {
        "id": "-Fy7oUiDj9vO"
      }
    },
    {
      "cell_type": "code",
      "source": [
        "# Compute (AB)^T\n",
        "AB_T = np.transpose(AB)\n",
        "\n",
        "# Compute B^T * A^T\n",
        "B_T = np.transpose(B)\n",
        "A_T = np.transpose(A)\n",
        "B_T_A_T = np.dot(B_T, A_T)\n",
        "\n",
        "# Output both results\n",
        "print(\"(AB)^T =\\n\", AB_T)\n",
        "print(\"B^T * A^T =\\n\", B_T_A_T)\n",
        "\n",
        "# Check if (AB)^T equals B^T * A^T\n",
        "if np.array_equal(AB_T, B_T_A_T):\n",
        "    print(\"(AB)^T = B^T * A^T\")\n",
        "else:\n",
        "    print(\"(AB)^T != B^T * A^T\")\n"
      ],
      "metadata": {
        "colab": {
          "base_uri": "https://localhost:8080/"
        },
        "id": "JXfjvUlIkA6I",
        "outputId": "dbeed99e-95cc-4024-9236-9c4581ad1ddd"
      },
      "execution_count": 72,
      "outputs": [
        {
          "output_type": "stream",
          "name": "stdout",
          "text": [
            "(AB)^T =\n",
            " [[23 51]\n",
            " [13 29]]\n",
            "B^T * A^T =\n",
            " [[23 51]\n",
            " [13 29]]\n",
            "(AB)^T = B^T * A^T\n"
          ]
        }
      ]
    },
    {
      "cell_type": "markdown",
      "source": [
        "Solve the following system of Linear equation using Inverse Methods.\n",
        " 2x −3y+z =−1\n",
        " x −y+2z =−3\n",
        " 3x +y−z =9"
      ],
      "metadata": {
        "id": "R5tefPtikXfN"
      }
    },
    {
      "cell_type": "code",
      "source": [
        "# Coefficient matrix A\n",
        "A = np.array([[2, -3, 1],\n",
        "              [1, -1, 2],\n",
        "              [3, 1, -1]])\n",
        "\n",
        "# Constants matrix B\n",
        "B = np.array([-1, -3, 9])\n",
        "\n",
        "# Find the inverse of A\n",
        "A_inv = np.linalg.inv(A)\n",
        "\n",
        "# Solve for X (the variables x, y, z)\n",
        "X = np.dot(A_inv, B)\n",
        "\n",
        "# Output the solution for x, y, z\n",
        "print(\"Solution for x, y, z:\", X)\n"
      ],
      "metadata": {
        "colab": {
          "base_uri": "https://localhost:8080/"
        },
        "id": "B3e_K5wKkYpe",
        "outputId": "4adf39a8-c810-4f7f-93de-023fa9e49b50"
      },
      "execution_count": 73,
      "outputs": [
        {
          "output_type": "stream",
          "name": "stdout",
          "text": [
            "Solution for x, y, z: [ 2.  1. -2.]\n"
          ]
        }
      ]
    },
    {
      "cell_type": "markdown",
      "source": [
        "10.2 Experiment: How Fast is Numpy?"
      ],
      "metadata": {
        "id": "qnBlYgztlRdv"
      }
    },
    {
      "cell_type": "markdown",
      "source": [
        " 1. Element-wise Addition:"
      ],
      "metadata": {
        "id": "UqKbTk3Blf-U"
      }
    },
    {
      "cell_type": "markdown",
      "source": [
        "2. Element-wise Multiplication"
      ],
      "metadata": {
        "id": "yS2cSZ7AnWud"
      }
    },
    {
      "cell_type": "markdown",
      "source": [
        " 3. Dot Product"
      ],
      "metadata": {
        "id": "h9Ti4t6CnZY5"
      }
    },
    {
      "cell_type": "markdown",
      "source": [
        "4. Matrix Multiplication"
      ],
      "metadata": {
        "id": "l3JqopAHnb0Y"
      }
    },
    {
      "cell_type": "code",
      "source": [
        "import numpy as np  # Import NumPy for efficient operations\n",
        "import time  # Import time module to measure execution time\n",
        "\n",
        "# Define the size of the arrays\n",
        "size = 1_000_000  # 1 million elements\n",
        "\n",
        "### 1. Element-wise Addition ###\n",
        "\n",
        "# Using Python Lists\n",
        "list1 = [i for i in range(size)]\n",
        "list2 = [i for i in range(size)]\n",
        "\n",
        "start_time = time.time()  # Start timing\n",
        "list_sum = [list1[i] + list2[i] for i in range(size)]  # Perform addition\n",
        "end_time = time.time()  # End timing\n",
        "\n",
        "print(\"Time for element-wise addition using Python lists:\", end_time - start_time, \"seconds\")\n",
        "\n",
        "# Using NumPy Arrays\n",
        "array1 = np.arange(size)\n",
        "array2 = np.arange(size)\n",
        "\n",
        "start_time = time.time()\n",
        "array_sum = array1 + array2  # Perform addition using NumPy\n",
        "end_time = time.time()\n",
        "\n",
        "print(\"Time for element-wise addition using NumPy:\", end_time - start_time, \"seconds\")\n",
        "\n",
        "### 2. Element-wise Multiplication ###\n",
        "\n",
        "# Using Python Lists\n",
        "start_time = time.time()\n",
        "list_product = [list1[i] * list2[i] for i in range(size)]  # Multiply elements\n",
        "end_time = time.time()\n",
        "\n",
        "print(\"Time for element-wise multiplication using Python lists:\", end_time - start_time, \"seconds\")\n",
        "\n",
        "# Using NumPy Arrays\n",
        "start_time = time.time()\n",
        "array_product = array1 * array2  # Multiply elements using NumPy\n",
        "end_time = time.time()\n",
        "\n",
        "print(\"Time for element-wise multiplication using NumPy:\", end_time - start_time, \"seconds\")\n",
        "\n",
        "### 3. Dot Product ###\n",
        "\n",
        "# Using Python Lists\n",
        "start_time = time.time()\n",
        "dot_product_list = sum(list1[i] * list2[i] for i in range(size))  # Compute dot product\n",
        "end_time = time.time()\n",
        "\n",
        "print(\"Time for dot product using Python lists:\", end_time - start_time, \"seconds\")\n",
        "\n",
        "# Using NumPy Arrays\n",
        "start_time = time.time()\n",
        "dot_product_numpy = np.dot(array1, array2)  # Compute dot product using NumPy\n",
        "end_time = time.time()\n",
        "\n",
        "print(\"Time for dot product using NumPy:\", end_time - start_time, \"seconds\")\n",
        "\n",
        "### 4. Matrix Multiplication ###\n",
        "\n",
        "# Define matrix size\n",
        "matrix_size = 1000  # 1000x1000 matrix\n",
        "\n",
        "# Using Python Lists\n",
        "matrix1 = [[1 for _ in range(matrix_size)] for _ in range(matrix_size)]\n",
        "matrix2 = [[1 for _ in range(matrix_size)] for _ in range(matrix_size)]\n",
        "\n",
        "start_time = time.time()\n",
        "\n",
        "# Perform matrix multiplication manually using nested loops\n",
        "result_matrix = [[sum(matrix1[i][k] * matrix2[k][j] for k in range(matrix_size)) for j in range(matrix_size)] for i in range(matrix_size)]\n",
        "\n",
        "end_time = time.time()\n",
        "print(\"Time for matrix multiplication using Python lists:\", end_time - start_time, \"seconds\")\n",
        "\n",
        "# Using NumPy Arrays\n",
        "array1 = np.ones((matrix_size, matrix_size))\n",
        "array2 = np.ones((matrix_size, matrix_size))\n",
        "\n",
        "start_time = time.time()\n",
        "\n",
        "result_array = np.dot(array1, array2)  # Use NumPy's dot function for fast multiplication\n",
        "\n",
        "end_time = time.time()\n",
        "print(\"Time for matrix multiplication using NumPy:\", end_time - start_time, \"seconds\")\n"
      ],
      "metadata": {
        "colab": {
          "base_uri": "https://localhost:8080/"
        },
        "id": "QZy7JMtKm95f",
        "outputId": "6944a440-aa26-48e3-f282-809b8629a707"
      },
      "execution_count": null,
      "outputs": [
        {
          "output_type": "stream",
          "name": "stdout",
          "text": [
            "Time for element-wise addition using Python lists: 0.19823002815246582 seconds\n",
            "Time for element-wise addition using NumPy: 0.0024013519287109375 seconds\n",
            "Time for element-wise multiplication using Python lists: 0.17896103858947754 seconds\n",
            "Time for element-wise multiplication using NumPy: 0.0022344589233398438 seconds\n",
            "Time for dot product using Python lists: 0.2508513927459717 seconds\n",
            "Time for dot product using NumPy: 0.002490997314453125 seconds\n"
          ]
        }
      ]
    }
  ]
}